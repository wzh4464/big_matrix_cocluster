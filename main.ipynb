{
 "cells": [
  {
   "cell_type": "code",
   "execution_count": 5,
   "metadata": {},
   "outputs": [
    {
     "name": "stdout",
     "output_type": "stream",
     "text": [
      "n:  [51 92 14 71 60 20 82]\n"
     ]
    }
   ],
   "source": [
    "import numpy as np\n",
    "import pandas as pd\n",
    "\n",
    "m = 100 # as random pool for bases of biclusters\n",
    "num_upper_bound = 10 # upper bound of number of biclusters\n",
    "num_bicluster = np.random.RandomState(42).randint(1, num_upper_bound, 1)[0] # number of biclusters\n",
    "\n",
    "## psedo random vector with fixed seed, ori(0), ori(1), ... ori(num_bicluster-1)\n",
    "ori = np.random.RandomState(42).rand(num_bicluster, m)\n",
    "\n",
    "# random n(0) n(1) n(2) ... n(num_bicluster-1) as the length of each bicluster base vector\n",
    "n = np.random.RandomState(42).randint(0, m, num_bicluster)\n",
    "\n",
    "# scale gives \n",
    "\n",
    "print(\"n: \", n)\n",
    "# p is a list, p[i] is a n[i]-length vector, as the base of bicluster i\n",
    "p = []\n",
    "for i in range(num_bicluster):\n",
    "    p.append(ori[i][:n[i]])\n",
    "\n",
    "for i in range(num_bicluster):\n",
    "    assert len(p[i]) == n[i]"
   ]
  },
  {
   "cell_type": "code",
   "execution_count": null,
   "metadata": {},
   "outputs": [],
   "source": [
    "# new a M x N matrix (zeros)\n",
    "M = 1000\n",
    "N = 1000\n",
    "\n",
    "A = np.zeros((M, N))\n",
    "\n"
   ]
  }
 ],
 "metadata": {
  "kernelspec": {
   "display_name": "cocluster",
   "language": "python",
   "name": "python3"
  },
  "language_info": {
   "codemirror_mode": {
    "name": "ipython",
    "version": 3
   },
   "file_extension": ".py",
   "mimetype": "text/x-python",
   "name": "python",
   "nbconvert_exporter": "python",
   "pygments_lexer": "ipython3",
   "version": "3.11.0"
  },
  "orig_nbformat": 4
 },
 "nbformat": 4,
 "nbformat_minor": 2
}
