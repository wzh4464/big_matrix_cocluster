{
 "cells": [
  {
   "cell_type": "code",
   "execution_count": 1,
   "metadata": {},
   "outputs": [],
   "source": [
    "import numpy as np\n",
    "import random\n",
    "from scipy.linalg import fractional_matrix_power\n",
    "\n",
    "\n",
    "def generate_random_Y(k, N):\n",
    "    Y = np.zeros((N, k))\n",
    "    for i in range(N):\n",
    "        j = random.randint(0, k-1)\n",
    "        Y[i][j] = 1\n",
    "    return Y\n",
    "\n",
    "def target(Y, D, L):\n",
    "    tmp = np.dot(Y.T, np.dot(D, Y))\n",
    "    try:\n",
    "        tmp_inv = np.linalg.inv(tmp)\n",
    "    except np.linalg.LinAlgError:\n",
    "        return 1e9  # 当矩阵不可逆时返回 1e9\n",
    "    return np.trace(np.dot(tmp_inv, np.dot(Y.T, np.dot(L, Y))))\n",
    "\n",
    "def minimize(Y, A):\n",
    "    D = np.diag(np.sum(A, axis=1))\n",
    "    L = D - A\n",
    "    return target(Y, D, L)\n",
    "\n",
    "def D_uv_from_D(D, m, n):\n",
    "    '''\n",
    "    Du, Dv = D_uv_from_D(D, m, n)\n",
    "    '''\n",
    "    Du = np.diag(np.sum(D, axis=1)[:m])\n",
    "    Dv = np.diag(np.sum(D, axis=1)[m:])\n",
    "    return Du, Dv"
   ]
  },
  {
   "cell_type": "code",
   "execution_count": 2,
   "metadata": {},
   "outputs": [
    {
     "data": {
      "text/plain": [
       "(1.9999999999999996,\n",
       " 1.9999999999999998,\n",
       " 11.0,\n",
       " array([[18.,  0.,  0.],\n",
       "        [ 0.,  9.,  0.],\n",
       "        [ 0.,  0.,  9.]]))"
      ]
     },
     "execution_count": 2,
     "metadata": {},
     "output_type": "execute_result"
    }
   ],
   "source": [
    "B = np.array(\n",
    "    [\n",
    "        [0, 0, 1, 1, 0],\n",
    "        [0, 1, 1, 0, 0],\n",
    "        [0, 0, 2, 2, 0],\n",
    "        [0, 1, 1, 0, 0],\n",
    "        [1, 0, 0, 0, 1],\n",
    "        [0, 0, 3, 3, 0],\n",
    "    ]\n",
    ")\n",
    "\n",
    "# A = 0 B\n",
    "#     B^T 0\n",
    "\n",
    "# 获取 A 的转置\n",
    "B_T = B.T\n",
    "\n",
    "m, n = B.shape\n",
    "upper_zeros = np.zeros((m, m))\n",
    "right_zeros = np.zeros((n, n))\n",
    "\n",
    "A = np.vstack((np.hstack((upper_zeros, B)), np.hstack((B_T, right_zeros)))) # (n+m) * (n+m), N := n+m\n",
    "# print(A)\n",
    "\n",
    "# A= [[0. 0. 0. 0. 0. 0. 0. 0. 1. 1. 0.]\n",
    "#     [0. 0. 0. 0. 0. 0. 0. 1. 1. 0. 0.]\n",
    "#     [0. 0. 0. 0. 0. 0. 0. 0. 2. 2. 0.]\n",
    "#     [0. 0. 0. 0. 0. 0. 0. 1. 1. 0. 0.]\n",
    "#     [0. 0. 0. 0. 0. 0. 1. 0. 0. 0. 1.]\n",
    "#     [0. 0. 0. 0. 0. 0. 0. 0. 3. 3. 0.]\n",
    "#     [0. 0. 0. 0. 1. 0. 0. 0. 0. 0. 0.]\n",
    "#     [0. 1. 0. 1. 0. 0. 0. 0. 0. 0. 0.]\n",
    "#     [1. 1. 2. 1. 0. 3. 0. 0. 0. 0. 0.]\n",
    "#     [1. 0. 2. 0. 0. 3. 0. 0. 0. 0. 0.]\n",
    "#     [0. 0. 0. 0. 1. 0. 0. 0. 0. 0. 0.]]\n",
    "\n",
    "D = np.diag(np.sum(A, axis=1))\n",
    "\n",
    "L = D - A\n",
    "\n",
    "# L\n",
    "k = 3 ## number of clusters\n",
    "cut = [] ## 1 * k, cut[i] = all weights across cluster i\n",
    "asso = [] ## 1 * k, asso[i] = all weights that one side is in cluster i\n",
    "\n",
    "Y = [] ## N * k, Y[i][j] = 1 if node i is in j\n",
    "\n",
    "# random a Y\n",
    "N = n + m\n",
    "\n",
    "\n",
    "Y = generate_random_Y(k, N)\n",
    "\n",
    "tmp = np.dot(Y.T, np.dot(D, Y))\n",
    "\n",
    "Z = np.dot(Y, fractional_matrix_power(tmp, -0.5))\n",
    "\n",
    "lfs = np.trace(np.dot(Z.T, np.dot(L, Z)))\n",
    "\n",
    "# (Y^T D Y)^(-1)Y^T L Y\n",
    "\n",
    "# rfs = np.trace(np.dot(np.linalg.inv(tmp), np.dot(Y.T, np.dot(L, Y))))\n",
    "\n",
    "\n",
    "rfs = minimize(Y, A)\n",
    "\n",
    "ld = np.trace(np.dot(L, np.linalg.inv(D)))\n",
    "\n",
    "lfs, rfs, ld, tmp\n"
   ]
  },
  {
   "cell_type": "code",
   "execution_count": 2,
   "metadata": {},
   "outputs": [
    {
     "data": {
      "text/plain": [
       "(0.41025641025641024,\n",
       " array([[0., 1., 0.],\n",
       "        [0., 0., 1.],\n",
       "        [0., 1., 0.],\n",
       "        [0., 0., 1.],\n",
       "        [1., 0., 0.],\n",
       "        [0., 1., 0.],\n",
       "        [1., 0., 0.],\n",
       "        [0., 0., 1.],\n",
       "        [0., 1., 0.],\n",
       "        [0., 1., 0.],\n",
       "        [1., 0., 0.]]))"
      ]
     },
     "execution_count": 2,
     "metadata": {},
     "output_type": "execute_result"
    }
   ],
   "source": [
    "\n",
    "\n",
    "# 穷举所有的 Y\n",
    "min_value = 1e9\n",
    "\n",
    "for i in range(k ** N):\n",
    "    Y = np.zeros((N, k))\n",
    "    for j in range(N):\n",
    "        Y[j][i // (k ** j) % k] = 1\n",
    "    \n",
    "    value = minimize(Y, A)\n",
    "    if value < min_value:\n",
    "        min_value = value\n",
    "        min_Y = Y\n",
    "        \n",
    "min_value, min_Y"
   ]
  },
  {
   "cell_type": "code",
   "execution_count": 5,
   "metadata": {},
   "outputs": [
    {
     "data": {
      "text/plain": [
       "array([[ 4.,  0.,  0.],\n",
       "       [ 0., 26.,  0.],\n",
       "       [ 0.,  0.,  6.]])"
      ]
     },
     "execution_count": 5,
     "metadata": {},
     "output_type": "execute_result"
    }
   ],
   "source": [
    "min_Dp = np.dot(min_Y.T, np.dot(D, min_Y))\n",
    "\n",
    "min_Dp"
   ]
  },
  {
   "cell_type": "code",
   "execution_count": 3,
   "metadata": {},
   "outputs": [
    {
     "data": {
      "text/plain": [
       "array([[0.        , 0.2773501 , 0.        ],\n",
       "       [0.        , 0.        , 0.57735027],\n",
       "       [0.        , 0.39223227, 0.        ],\n",
       "       [0.        , 0.        , 0.57735027],\n",
       "       [0.70710678, 0.        , 0.        ],\n",
       "       [0.        , 0.48038446, 0.        ],\n",
       "       [0.5       , 0.        , 0.        ],\n",
       "       [0.        , 0.        , 0.57735027],\n",
       "       [0.        , 0.5547002 , 0.        ],\n",
       "       [0.        , 0.48038446, 0.        ],\n",
       "       [0.5       , 0.        , 0.        ]])"
      ]
     },
     "execution_count": 3,
     "metadata": {},
     "output_type": "execute_result"
    }
   ],
   "source": [
    "min_Z = np.dot(min_Y, fractional_matrix_power(np.dot(min_Y.T, np.dot(D, min_Y)), -0.5))\n",
    "F = np.dot(fractional_matrix_power(D, 0.5), min_Z)\n",
    "\n",
    "F"
   ]
  },
  {
   "cell_type": "code",
   "execution_count": 28,
   "metadata": {},
   "outputs": [
    {
     "data": {
      "text/plain": [
       "(array([[0., 0., 1.],\n",
       "        [0., 0., 2.],\n",
       "        [0., 1., 0.],\n",
       "        [8., 0., 0.],\n",
       "        [0., 0., 1.],\n",
       "        [0., 0., 1.],\n",
       "        [0., 0., 1.],\n",
       "        [0., 1., 0.],\n",
       "        [0., 1., 0.],\n",
       "        [8., 0., 0.],\n",
       "        [0., 0., 0.]]),\n",
       " array([[1., 0., 0.],\n",
       "        [0., 1., 0.],\n",
       "        [0., 0., 1.]]),\n",
       " array([[128.,   0.,   0.],\n",
       "        [  0.,   3.,   0.],\n",
       "        [  0.,   0.,   8.]]))"
      ]
     },
     "execution_count": 28,
     "metadata": {},
     "output_type": "execute_result"
    }
   ],
   "source": [
    "# check when Z^T D Z is identity matrix\n",
    "Y = generate_random_Y(k, N)\n",
    "\n",
    "# Y 的第二行*2\n",
    "Y[1] = Y[1] * 2\n",
    "\n",
    "# Y 的第一列*8\n",
    "Y[:, 0] = Y[:, 0] * 8\n",
    "\n",
    "# Y 的最后一行是 0 0 0\n",
    "Y[-1] = 0\n",
    "\n",
    "def Z_from_Y_D(Y, D):\n",
    "    Dp = np.dot(Y.T, np.dot(D, Y))\n",
    "    return np.dot(Y, fractional_matrix_power(Dp, -0.5))\n",
    "\n",
    "Z = Z_from_Y_D(Y, D)\n",
    "Y, np.dot(Z.T, np.dot(D, Z)), np.dot(Y.T, Y)"
   ]
  },
  {
   "cell_type": "code",
   "execution_count": 4,
   "metadata": {},
   "outputs": [
    {
     "data": {
      "text/plain": [
       "array([[0.        , 0.        , 0.25      , 0.28867513, 0.        ],\n",
       "       [0.        , 0.5       , 0.25      , 0.        , 0.        ],\n",
       "       [0.        , 0.        , 0.35355339, 0.40824829, 0.        ],\n",
       "       [0.        , 0.5       , 0.25      , 0.        , 0.        ],\n",
       "       [0.70710678, 0.        , 0.        , 0.        , 0.70710678],\n",
       "       [0.        , 0.        , 0.4330127 , 0.5       , 0.        ]])"
      ]
     },
     "execution_count": 4,
     "metadata": {},
     "output_type": "execute_result"
    }
   ],
   "source": [
    "Du, Dv = D_uv_from_D(D, m, n)\n",
    "\n",
    "svd_source = np.dot(fractional_matrix_power(Du, -0.5), np.dot(B, fractional_matrix_power(Dv, -0.5)))\n",
    "\n",
    "u, s, vh = np.linalg.svd(svd_source)\n",
    "\n",
    "U = np.sqrt(2)/2 * u[:, :k]\n",
    "Vh = np.sqrt(2)/2 * vh[:k, :]\n",
    "\n",
    "# U, Vh.T, np.dot(U.T, U) + np.dot(Vh, Vh.T)\n",
    "\n",
    "# F = [U;V]\n",
    "F = np.vstack((U, Vh.T))\n",
    "\n",
    "# F\n",
    "svd_source"
   ]
  },
  {
   "cell_type": "code",
   "execution_count": 49,
   "metadata": {},
   "outputs": [
    {
     "data": {
      "text/plain": [
       "(array([[1., 0., 1., 0., 0., 1., 0., 0., 1., 1., 0.],\n",
       "        [0., 1., 0., 1., 0., 0., 0., 1., 0., 0., 0.],\n",
       "        [1., 0., 1., 0., 0., 1., 0., 0., 1., 1., 0.],\n",
       "        [0., 1., 0., 1., 0., 0., 0., 1., 0., 0., 0.],\n",
       "        [0., 0., 0., 0., 1., 0., 1., 0., 0., 0., 1.],\n",
       "        [1., 0., 1., 0., 0., 1., 0., 0., 1., 1., 0.],\n",
       "        [0., 0., 0., 0., 1., 0., 1., 0., 0., 0., 1.],\n",
       "        [0., 1., 0., 1., 0., 0., 0., 1., 0., 0., 0.],\n",
       "        [1., 0., 1., 0., 0., 1., 0., 0., 1., 1., 0.],\n",
       "        [1., 0., 1., 0., 0., 1., 0., 0., 1., 1., 0.],\n",
       "        [0., 0., 0., 0., 1., 0., 1., 0., 0., 0., 1.]]),\n",
       " array([[0., 1., 0.],\n",
       "        [0., 0., 1.],\n",
       "        [0., 1., 0.],\n",
       "        [0., 0., 1.],\n",
       "        [1., 0., 0.],\n",
       "        [0., 1., 0.],\n",
       "        [1., 0., 0.],\n",
       "        [0., 0., 1.],\n",
       "        [0., 1., 0.],\n",
       "        [0., 1., 0.],\n",
       "        [1., 0., 0.]]))"
      ]
     },
     "execution_count": 49,
     "metadata": {},
     "output_type": "execute_result"
    }
   ],
   "source": [
    "np.dot(min_Y, min_Y.T), min_Y"
   ]
  },
  {
   "cell_type": "code",
   "execution_count": 57,
   "metadata": {},
   "outputs": [
    {
     "data": {
      "text/plain": [
       "(array([1, 2, 1, 2, 0, 1], dtype=int32), array([0, 2, 1, 1, 0], dtype=int32))"
      ]
     },
     "execution_count": 57,
     "metadata": {},
     "output_type": "execute_result"
    }
   ],
   "source": [
    "# 对 F 的每一行作为一个样本，进行k-means聚类\n",
    "\n",
    "from sklearn.cluster import KMeans\n",
    "\n",
    "kmeans = KMeans(n_clusters=k, random_state=0).fit(F)\n",
    "\n",
    "label = kmeans.labels_\n",
    "\n",
    "labele_u = label[:m]\n",
    "labele_v = label[m:]\n",
    "\n",
    "labele_u, labele_v"
   ]
  },
  {
   "cell_type": "code",
   "execution_count": 59,
   "metadata": {},
   "outputs": [
    {
     "data": {
      "text/plain": [
       "array([[1, 1, 0, 0, 0],\n",
       "       [0, 0, 1, 1, 0],\n",
       "       [0, 0, 3, 3, 0],\n",
       "       [0, 0, 2, 2, 0],\n",
       "       [0, 0, 0, 1, 1],\n",
       "       [0, 0, 0, 1, 1]])"
      ]
     },
     "execution_count": 59,
     "metadata": {},
     "output_type": "execute_result"
    }
   ],
   "source": [
    "# 按照聚类结果，将 B 重新排列\n",
    "\n",
    "vis_B = B[labele_u.argsort()]\n",
    "vis_B = vis_B[:, labele_v.argsort()]\n",
    "\n",
    "vis_B"
   ]
  },
  {
   "cell_type": "code",
   "execution_count": null,
   "metadata": {},
   "outputs": [],
   "source": []
  }
 ],
 "metadata": {
  "kernelspec": {
   "display_name": "Python 3",
   "language": "python",
   "name": "python3"
  },
  "language_info": {
   "codemirror_mode": {
    "name": "ipython",
    "version": 3
   },
   "file_extension": ".py",
   "mimetype": "text/x-python",
   "name": "python",
   "nbconvert_exporter": "python",
   "pygments_lexer": "ipython3",
   "version": "3.11.5"
  }
 },
 "nbformat": 4,
 "nbformat_minor": 2
}
